{
 "cells": [
  {
   "cell_type": "code",
   "execution_count": 1,
   "id": "525da2c4",
   "metadata": {},
   "outputs": [],
   "source": [
    "import random\n",
    "\n",
    "# Problem: Traveling Salesman Problem\n",
    "CUSTOMERS = [(0, 0), (1, 5), (2, 2), (3, 8), (5, 5), (6, 1), (8, 3)]\n",
    "\n",
    "POPULATION_SIZE = 4  # Smaller population for demonstration\n",
    "GENERATIONS = 2\n",
    "VEHICLES = 3\n",
    "\n",
    "def create_individual():\n",
    "    \"\"\"\n",
    "    Creates a random individual for a multi-vehicle TSP/VRP.\n",
    "    Representation: List of lists, one list per vehicle containing assigned customers.\n",
    "    Allows uneven distribution of customers.\n",
    "    \"\"\"\n",
    "    customers = list(range(1, len(CUSTOMERS)))  # exclude depot (index 0)\n",
    "    random.shuffle(customers)\n",
    "\n",
    "    individual = [[] for _ in range(VEHICLES)]\n",
    "\n",
    "    for cust in customers:\n",
    "        chosen_vehicle = random.randint(0, VEHICLES - 1)  # assign randomly\n",
    "        individual[chosen_vehicle].append(cust)\n",
    "\n",
    "    return individual"
   ]
  },
  {
   "cell_type": "code",
   "execution_count": 2,
   "id": "b8a2a1dd",
   "metadata": {},
   "outputs": [
    {
     "data": {
      "text/plain": [
       "[[[4, 3], [2], [5, 6, 1]],\n",
       " [[6, 4, 5, 3], [2], [1]],\n",
       " [[3, 4], [6], [5, 1, 2]],\n",
       " [[1, 4, 2], [3], [5, 6]]]"
      ]
     },
     "execution_count": 2,
     "metadata": {},
     "output_type": "execute_result"
    }
   ],
   "source": [
    "# Testing creation of individuals\n",
    "INDIVIDUALS = []\n",
    "for i in range(POPULATION_SIZE):\n",
    "  INDIVIDUALS.append(create_individual())\n",
    "\n",
    "INDIVIDUALS"
   ]
  },
  {
   "cell_type": "code",
   "execution_count": 3,
   "id": "cc93b929",
   "metadata": {},
   "outputs": [],
   "source": [
    "def fitness(individual):\n",
    "    individual = decode_individual(individual) #adding depot for start and end\n",
    "    total_distance = 0\n",
    "\n",
    "    for route in individual:  # go through each vehicle's route\n",
    "        if len(route) > 1:  # if vehicle visits more than one customer\n",
    "            for i in range(1, len(route)):\n",
    "                x1, y1 = CUSTOMERS[route[i-1]]\n",
    "                x2, y2 = CUSTOMERS[route[i]]\n",
    "                total_distance += ((x2 - x1)**2 + (y2 - y1)**2)**0.5\n",
    "\n",
    "    return 1 / total_distance if total_distance > 0 else 0\n",
    "\n",
    "\n",
    "def decode_individual(individual):\n",
    "    \"\"\"\n",
    "    Adds depot (0) at the start and end of each vehicle's route.\n",
    "    \"\"\"\n",
    "    return [[0] + route + [0] for route in individual]"
   ]
  },
  {
   "cell_type": "code",
   "execution_count": 4,
   "id": "ea647d8f",
   "metadata": {},
   "outputs": [
    {
     "name": "stdout",
     "output_type": "stream",
     "text": [
      "0.021660119901897562\n",
      "0.020709365872281525\n",
      "0.018253097564607912\n",
      "0.019718697705654264\n"
     ]
    }
   ],
   "source": [
    "for individual in INDIVIDUALS:\n",
    "  print(fitness(individual))"
   ]
  },
  {
   "cell_type": "code",
   "execution_count": 5,
   "id": "baf20428",
   "metadata": {},
   "outputs": [],
   "source": [
    "def swap_mutation(individual):\n",
    "    vehicle = random.choice([v for v in individual if len(v) > 1])\n",
    "    i, j = random.sample(range(len(vehicle)), 2)\n",
    "    vehicle[i], vehicle[j] = vehicle[j], vehicle[i]\n",
    "    print(\"swap\")\n",
    "    return individual\n",
    "\n",
    "\n",
    "def relocation_mutation(individual):\n",
    "    # pick a non-empty vehicle as source\n",
    "    from_vehicle = random.choice([v for v in individual if v])\n",
    "    cust = from_vehicle.pop(random.randrange(len(from_vehicle)))\n",
    "\n",
    "    # pick a different vehicle as target\n",
    "    candidates = [v for v in individual if v is not from_vehicle]\n",
    "    to_vehicle = random.choice(candidates)\n",
    "\n",
    "    # insert at random position\n",
    "    insert_pos = random.randint(0, len(to_vehicle))\n",
    "    to_vehicle.insert(insert_pos, cust)\n",
    "\n",
    "    print(\"relocation\")\n",
    "    return individual\n",
    "\n",
    "\n",
    "def mutate(individual):\n",
    "    chance = random.random()\n",
    "    if chance <= 1:  # 10% mutation rate for demonstration\n",
    "      if chance < 0.5: # 50% of each mutation type\n",
    "        relocation_mutation(individual)\n",
    "      else: swap_mutation(individual)\n",
    "    return individual"
   ]
  },
  {
   "cell_type": "code",
   "execution_count": 6,
   "id": "b64e6e90",
   "metadata": {},
   "outputs": [
    {
     "name": "stdout",
     "output_type": "stream",
     "text": [
      "relocation\n",
      "swap\n",
      "swap\n",
      "swap\n"
     ]
    },
    {
     "data": {
      "text/plain": [
       "[[[4], [3, 2], [5, 6, 1]],\n",
       " [[6, 5, 4, 3], [2], [1]],\n",
       " [[4, 3], [6], [5, 1, 2]],\n",
       " [[2, 4, 1], [3], [5, 6]]]"
      ]
     },
     "execution_count": 6,
     "metadata": {},
     "output_type": "execute_result"
    }
   ],
   "source": [
    "for individual in INDIVIDUALS:\n",
    "  mutate(individual)\n",
    "\n",
    "INDIVIDUALS"
   ]
  }
 ],
 "metadata": {
  "kernelspec": {
   "display_name": "Python 3",
   "language": "python",
   "name": "python3"
  },
  "language_info": {
   "codemirror_mode": {
    "name": "ipython",
    "version": 3
   },
   "file_extension": ".py",
   "mimetype": "text/x-python",
   "name": "python",
   "nbconvert_exporter": "python",
   "pygments_lexer": "ipython3",
   "version": "3.10.4"
  }
 },
 "nbformat": 4,
 "nbformat_minor": 5
}
