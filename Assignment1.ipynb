{
 "cells": [
  {
   "cell_type": "markdown",
   "id": "8072d57b",
   "metadata": {},
   "source": [
    "# VRP with EA"
   ]
  },
  {
   "cell_type": "markdown",
   "id": "8a29a49c",
   "metadata": {},
   "source": [
    "## 1. Creating Customers function"
   ]
  },
  {
   "cell_type": "code",
<<<<<<< Updated upstream
   "execution_count": 68,
   "id": "525da2c4",
   "metadata": {},
   "outputs": [],
=======
   "execution_count": 94,
   "id": "525da2c4",
   "metadata": {},
   "outputs": [
    {
     "ename": "ModuleNotFoundError",
     "evalue": "No module named 'numpy'",
     "output_type": "error",
     "traceback": [
      "\u001b[1;31m---------------------------------------------------------------------------\u001b[0m",
      "\u001b[1;31mModuleNotFoundError\u001b[0m                       Traceback (most recent call last)",
      "Cell \u001b[1;32mIn[94], line 2\u001b[0m\n\u001b[0;32m      1\u001b[0m \u001b[38;5;28;01mimport\u001b[39;00m\u001b[38;5;250m \u001b[39m\u001b[38;5;21;01mrandom\u001b[39;00m\n\u001b[1;32m----> 2\u001b[0m \u001b[38;5;28;01mimport\u001b[39;00m\u001b[38;5;250m \u001b[39m\u001b[38;5;21;01mnumpy\u001b[39;00m\u001b[38;5;250m \u001b[39m\u001b[38;5;28;01mas\u001b[39;00m\u001b[38;5;250m \u001b[39m\u001b[38;5;21;01mnp\u001b[39;00m\n\u001b[0;32m      3\u001b[0m \u001b[38;5;28;01mimport\u001b[39;00m\u001b[38;5;250m \u001b[39m\u001b[38;5;21;01mmatplotlib\u001b[39;00m\u001b[38;5;21;01m.\u001b[39;00m\u001b[38;5;21;01mpyplot\u001b[39;00m\u001b[38;5;250m \u001b[39m\u001b[38;5;28;01mas\u001b[39;00m\u001b[38;5;250m \u001b[39m\u001b[38;5;21;01mplt\u001b[39;00m\n\u001b[0;32m      4\u001b[0m \u001b[38;5;28;01mimport\u001b[39;00m\u001b[38;5;250m \u001b[39m\u001b[38;5;21;01mtime\u001b[39;00m\n",
      "\u001b[1;31mModuleNotFoundError\u001b[0m: No module named 'numpy'"
     ]
    }
   ],
>>>>>>> Stashed changes
   "source": [
    "import random\n",
    "import numpy as np\n",
    "import matplotlib.pyplot as plt\n",
    "import time\n",
    "\n",
    "# List of CUSTOMERS and maximum vehicles used in multiple functions. It is initialized in point 9 or create_map function\n",
    "CUSTOMERS = []\n",
    "VEHICLES = 0\n",
    "\n",
    "# Generate map based on the three possible sizes\n",
    "def create_map(SIZE):\n",
    "  if(SIZE==\"SMALL\"):\n",
    "    CUSTOMER_COUNT = np.random.randint(10, 20)\n",
    "    VEHICLES = np.random.randint(2, 10)\n",
    "  elif(SIZE==\"MEDIUM\"):\n",
    "    CUSTOMER_COUNT = np.random.randint(15, 30)\n",
    "    VEHICLES = np.random.randint(11, 25)\n",
    "  elif(SIZE==\"LARGE\"):\n",
    "    CUSTOMER_COUNT = np.random.randint(20, 50)\n",
    "    VEHICLES = np.random.randint(26, 50)\n",
    "\n",
    "  customers = set()\n",
    "\n",
    "  # Generating a set of unique customers\n",
    "  while len(customers) < CUSTOMER_COUNT:\n",
    "      point = tuple(int(x) for x in np.random.randint(-20, 20, size=2))  # (x, y) within [0, 20)\n",
    "      customers.add(point)\n",
    "  customers = list(customers)\n",
    "  customers.insert(0,(0,0))\n",
    "  return customers, VEHICLES\n"
   ]
  },
  {
   "cell_type": "markdown",
   "id": "d46a7a3b",
   "metadata": {},
   "source": [
    "## 2. Create Individual function"
   ]
  },
  {
   "cell_type": "code",
   "execution_count": 69,
   "id": "f817928e",
   "metadata": {},
   "outputs": [],
   "source": [
    "# Creates an indivdual by randomly assigning customers to a random amount of vehicles\n",
    "def create_individual(vehicles):\n",
    "    customers = list(range(1, len(CUSTOMERS)))  # exclude depot (index 0)\n",
    "    random.shuffle(customers)\n",
    "\n",
    "    individual = [[] for _ in range(vehicles)]\n",
    "\n",
    "    for cust in customers:\n",
    "        chosen_vehicle = random.randint(0, vehicles - 1)  # assign randomly\n",
    "        individual[chosen_vehicle].append(cust)\n",
    "\n",
    "    return individual"
   ]
  },
  {
   "cell_type": "markdown",
   "id": "afdefc26",
   "metadata": {},
   "source": [
    "## 3. Fitness function"
   ]
  },
  {
   "cell_type": "code",
   "execution_count": 70,
   "id": "cc93b929",
   "metadata": {},
   "outputs": [],
   "source": [
    "# Fitness function calculates the total distance traveled by all vehicles\n",
    "def fitness(individual):\n",
    "    individual = decode_individual(individual) # Adding depot for start and end\n",
    "    total_distance = 0\n",
    "\n",
    "    for route in individual:  # Go through each vehicle's route\n",
    "        if len(route) > 1:  # if vehicle visits more than one customer\n",
    "            for i in range(1, len(route)):\n",
    "                x1, y1 = CUSTOMERS[route[i-1]]\n",
    "                x2, y2 = CUSTOMERS[route[i]]\n",
    "                total_distance += ((x2 - x1)**2 + (y2 - y1)**2)**0.5\n",
    "\n",
    "    return 1 / total_distance if total_distance > 0 else 0\n",
    "\n",
    "# Adds depot to individual\n",
    "def decode_individual(individual):\n",
    "    return [[0] + route + [0] for route in individual]"
   ]
  },
  {
   "cell_type": "markdown",
   "id": "943494e0",
   "metadata": {},
   "source": [
    "## 4. Selection Function"
   ]
  },
  {
   "cell_type": "code",
   "execution_count": 71,
   "id": "9a96aeb3",
   "metadata": {},
   "outputs": [],
   "source": [
    "# Tournament selection with three individuals\n",
    "def tournament_selection(population, k=3):\n",
    "    tournament = random.sample(population, k)\n",
    "    return max(tournament, key=fitness)"
   ]
  },
  {
   "cell_type": "markdown",
   "id": "e1271f95",
   "metadata": {},
   "source": [
    "## 5. Mutation functions"
   ]
  },
  {
   "cell_type": "code",
   "execution_count": 72,
   "id": "baf20428",
   "metadata": {},
   "outputs": [],
   "source": [
    "# Swapping of two customers withing a random vehicle's route\n",
    "def swap_mutation(individual):\n",
    "    vehicle = random.choice([v for v in individual if len(v) > 1])\n",
    "    i, j = random.sample(range(len(vehicle)), 2)\n",
    "    vehicle[i], vehicle[j] = vehicle[j], vehicle[i]\n",
    "    return individual\n",
    "\n",
    "# Randomly relocating a customer from one vehicle to another\n",
    "def relocation_mutation(individual):\n",
    "    # Pick a non-empty vehicle as source\n",
    "    from_vehicle = random.choice([v for v in individual if v])\n",
    "    customer = from_vehicle.pop(random.randrange(len(from_vehicle)))\n",
    "\n",
    "    # Pick a different vehicle as target\n",
    "    candidates = [v for v in individual if v is not from_vehicle]\n",
    "    to_vehicle = random.choice(candidates)\n",
    "\n",
    "    # Insert at random position\n",
    "    insert_pos = random.randint(0, len(to_vehicle))\n",
    "    to_vehicle.insert(insert_pos, customer)\n",
    "\n",
    "    return individual\n",
    "\n",
    "# Common mutate function that applies either swap or relocation mutation\n",
    "def mutate(individual):\n",
    "    chance = random.random()\n",
    "    if chance <= 0.1:  # 10% mutation rate for demonstration\n",
    "      if chance < 0.05: # 50% of each mutation type\n",
    "        relocation_mutation(individual)\n",
    "      else: swap_mutation(individual)\n",
    "    return individual"
   ]
  },
  {
   "cell_type": "markdown",
   "id": "687fabf0",
   "metadata": {},
   "source": [
    "## 6. Crossover function"
   ]
  },
  {
   "cell_type": "code",
   "execution_count": 73,
   "id": "485d58d4",
   "metadata": {},
   "outputs": [],
   "source": [
    "# Order Crossover (OX) adapted for out 2 dimensional individual structure\n",
    "def order_crossover(parent1, parent2):\n",
    "    number_of_customers = sum(len(r) for r in parent1)\n",
    "\n",
    "    # 1. Create lists without vehicle format from parents\n",
    "    parent1_to_list = [c for route in parent1 for c in route]\n",
    "    parent2_to_list = [c for route in parent2 for c in route]\n",
    "\n",
    "    # 2. Pick random crossover points and add to child\n",
    "    start, end = sorted(random.sample(range(len(parent1_to_list)), 2))\n",
    "    child_list = [None]*number_of_customers\n",
    "    child_list[start:end+1] = parent1_to_list[start:end+1]\n",
    "\n",
    "    # 3. Fill remaining customers from parent2 in order\n",
    "    pointer = (end + 1) % len(child_list)\n",
    "    for c in parent2_to_list:\n",
    "        if c not in child_list:\n",
    "            child_list[pointer] = c\n",
    "            pointer = (pointer + 1) % len(child_list)\n",
    "\n",
    "    # 4. Split child list into vehicle routes based on parent1 format\n",
    "    child = []\n",
    "    idx = 0\n",
    "    for vehicle in parent1:\n",
    "        route_length = len(vehicle)\n",
    "        child.append(child_list[idx:idx+route_length])\n",
    "        idx += route_length\n",
    "\n",
    "    return child"
   ]
  },
  {
   "cell_type": "markdown",
   "id": "3b270686",
   "metadata": {},
   "source": [
    "## 7. Visulazation of individual"
   ]
  },
  {
   "cell_type": "code",
   "execution_count": 74,
   "id": "785e1319",
   "metadata": {},
   "outputs": [],
   "source": [
    "# Print function for individuals\n",
    "def visualize_individual (individual,fitness):\n",
    "  individual= decode_individual(individual)\n",
    "  output=\"Individual:\\n\"\n",
    "\n",
    "  vehicles_used = 0\n",
    "\n",
    "  for i in range(len(individual)):\n",
    "    if (len(individual[i])>2):\n",
    "      vehicles_used+=1;\n",
    "    route = \" -> \".join(map(str, individual[i]))\n",
    "\n",
    "    output+=f\"- Vehicle {i+1}: \"+route+\"\\n\"\n",
    "  output+=f\"Vehicles used: {vehicles_used}/{VEHICLES}\\n\"\n",
    "  output+=f\"Fitness score: {fitness}\\n\"\n",
    "\n",
    "  return output"
   ]
  },
  {
   "cell_type": "code",
   "execution_count": 75,
   "id": "22990055",
   "metadata": {},
   "outputs": [],
   "source": [
    "# Graph function for individuals, showing the route on a 2D plot\n",
    "def graph_map(individual):\n",
    "  individual = decode_individual(individual)\n",
    "\n",
    "  plt.figure(figsize=(10, 10))\n",
    "  x, y = zip(*CUSTOMERS)\n",
    "\n",
    "  plt.grid()\n",
    "  plt.scatter(x, y)\n",
    "\n",
    "  for vehicle in individual:\n",
    "    color = np.random.rand(3,)\n",
    "    for i in range(len(vehicle)-1):\n",
    "      plt.annotate(\"\",xy=(x[vehicle[i+1]], y[vehicle[i+1]]),xytext=(x[vehicle[i]], y[vehicle[i]]),\n",
    "                    arrowprops=dict(arrowstyle=\"->\", color=color, lw=2))\n",
    "  plt.show()"
   ]
  },
  {
   "cell_type": "markdown",
   "id": "c3130d71",
   "metadata": {},
   "source": [
    "## 8. Genetic Algorithm"
   ]
  },
  {
   "cell_type": "code",
   "execution_count": 76,
   "id": "8f1e595f",
   "metadata": {},
   "outputs": [],
   "source": [
    "# Main genetic algorithm cycle\n",
    "def genetic_algorithm(CROSSOVER_RATE,GENERATIONS,POPULATION_SIZE):\n",
    "    # Timer for runtime\n",
    "    start_time = time.time()\n",
    "\n",
    "    # Initilization of individuals\n",
    "    INDIVIDUALS = []\n",
    "    best_fitness = 0\n",
    "    best_generation = 0\n",
    "\n",
    "    for i in range(POPULATION_SIZE):\n",
    "      INDIVIDUALS.append(create_individual(VEHICLES))\n",
    "\n",
    "    for generation in range(GENERATIONS):\n",
    "        # Evaluation\n",
    "        INDIVIDUALS = sorted(INDIVIDUALS, key=fitness, reverse=True)\n",
    "\n",
    "        new_population = []\n",
    "\n",
    "        # Elitism\n",
    "        new_population.extend([INDIVIDUALS[0], INDIVIDUALS[1]])\n",
    "\n",
    "        # Find when best fitness was discovered\n",
    "        if best_fitness < fitness(INDIVIDUALS[0]):\n",
    "          best_fitness = fitness(INDIVIDUALS[0])\n",
    "          best_generation = generation\n",
    "\n",
    "        # Perform genetic operations until new population is full\n",
    "        while len(new_population) < POPULATION_SIZE:\n",
    "            parent1 = tournament_selection(INDIVIDUALS)\n",
    "            parent2 = tournament_selection(INDIVIDUALS)\n",
    "\n",
    "            #Crossover with a given rate\n",
    "            if random.random() < CROSSOVER_RATE:\n",
    "              offspring1 = order_crossover(parent1, parent2)\n",
    "              offspring2 = order_crossover(parent2, parent1)\n",
    "\n",
    "            else:\n",
    "                offspring1, offspring2 = parent1, parent2\n",
    "\n",
    "            # Mutation\n",
    "            offspring1 = mutate(offspring1)\n",
    "            offspring2 = mutate(offspring2)\n",
    "\n",
    "\n",
    "            new_population.extend([offspring1, offspring2])\n",
    "            \n",
    "        # Update population for next generation of a maximal size, as some operations may exceed the population size\n",
    "        INDIVIDUALS = new_population[:POPULATION_SIZE]\n",
    "\n",
    "    #Calculating time for the algorithm\n",
    "    total_time = time.time() - start_time\n",
    "    print(\"The best fitness, \" + str(best_fitness) + \", was found in generation \" + str(best_generation) + \"\\n\")\n",
    "    return max(INDIVIDUALS, key=fitness), total_time\n"
   ]
  },
  {
   "cell_type": "markdown",
   "id": "7ef2866f",
   "metadata": {},
   "source": [
    "## 9. Runtime"
   ]
  },
  {
   "cell_type": "markdown",
   "id": "02e098b6",
   "metadata": {},
   "source": [
    "### Generate map based on size"
   ]
  },
  {
   "cell_type": "code",
   "execution_count": 77,
   "id": "c92d0d2c",
   "metadata": {},
   "outputs": [],
   "source": [
    "# RUN TO CHOOSE SMALL RANDOM MAP\n",
    "# CUSTOMERS,VEHICLES = create_map(\"SMALL\")\n",
    "\n",
    "# TEST MAP 1\n",
    "CUSTOMERS = [(0, 0), (-15, 4), (15, -11), (3, 8), (8, 17), (9, 3), (11, -13), (8, -8), (8, -16), (-13, 10), (11, -14), (16, 5), (19, -17), (1, -16), (16, 14), (2, 5), (-10, -8), (-7, 15)]\n",
    "VEHICLES = 5\n",
    "\n",
    "# TEST MAP 2\n",
    "# CUSTOMERS = [(0, 0), (-20, -1), (13, 4), (3, -11), (10, 8), (5, 8), (-4, -9), (-7, -1), (15, 13), (-20, 9), (-18, -10), (7, 2), (15, 9), (-2, -4), (-12, -12), (0, 17)]\n",
    "# VEHICLES = 2\n"
   ]
  },
  {
   "cell_type": "code",
   "execution_count": 78,
   "id": "d729544f",
   "metadata": {},
   "outputs": [],
   "source": [
    "# RUN TO CHOOSE MEDIUM RANDOM MAP\n",
    "# CUSTOMERS,VEHICLES = create_map(\"MEDIUM\")\n",
    "\n",
    "# TEST MAP 3\n",
    "# CUSTOMERS = [(0, 0), (-19, -8), (-5, -3), (6, -19), (-3, 15), (7, -11), (15, -4), (-16, 5), (-7, 17), (-14, -19), (-13, 13), (-14, -7), (-19, 6), (9, 7), (-20, -5), (9, 13), (14, -13), (3, -13), (-14, -2), (-7, -12), (15, -3), (-1, -7), (16, 17)]\n",
    "# VEHICLES = 17\n",
    "\n",
    "# TEST MAP 4\n",
    "# CUSTOMERS = [(0, 0), (-4, 17), (17, -9), (-2, 8), (8, -18), (-10, 10), (-8, -17), (19, 3), (-16, -10), (-20, 5), (18, 7), (3, 0), (-18, -20), (2, -1), (-18, 4), (-17, -3), (17, -17), (12, -4), (-14, -1), (-9, -18), (19, 4), (-5, 7), (-5, 16), (15, -18), (-17, -13), (6, -9), (6, 6)]\n",
    "# VEHICLES = 24"
   ]
  },
  {
   "cell_type": "code",
   "execution_count": 79,
   "id": "0334289f",
   "metadata": {},
   "outputs": [],
   "source": [
    "# RUN TO CHOOSE LARGE RANDOM MAP\n",
    "# CUSTOMERS,VEHICLES = create_map(\"LARGE\")\n",
    "\n",
    "# TEST MAP 5\n",
    "# CUSTOMERS = [(0, 0), (-5, -9), (12, 16), (13, -19), (-10, 13), (10, -9), (-9, -13), (-16, -13), (-8, 1), (-15, -8), (10, 15), (-1, -5), (6, 2), (2, 14), (-7, 8), (16, 16), (1, 12), (-13, 16), (-10, 12), (4, 8), (-5, 5), (3, 12), (19, 2), (-11, 19), (5, 3), (17, 14), (8, 11), (-18, -8), (18, -18), (-1, -18), (12, -16), (-2, -3), (-17, 12), (-16, 7), (15, 16), (-10, 2), (-11, 6), (-4, 15), (9, -12), (-11, 3), (17, 4), (-14, -2), (0, -6), (13, 3), (6, 3)]\n",
    "# VEHICLES = 44\n",
    "\n",
    "# TEST MAP 6\n",
    "# CUSTOMERS = [(0, 0), (-19, -2), (-1, 14), (-14, -12), (-11, 11), (-12, 13), (0, 2), (17, 12), (10, 6), (18, -5), (12, -18), (7, -1), (-18, 8), (-4, 1), (6, 5), (15, 17), (19, -10), (11, -14), (10, -10), (2, -20), (14, 12), (-8, -15), (4, 17), (9, 7), (18, -15), (6, -17), (-9, -1), (-20, 4), (-15, -9), (-2, -18), (-16, -5), (-1, -12), (-14, 17), (-7, 16), (17, -20), (-3, -17), (-2, 12), (-13, 12), (14, 5), (5, 2), (4, 10), (-6, 8), (-12, -14), (-9, 6), (-13, -4), (3, -8), (-13, 5)]\n",
    "# VEHICLES = 32"
   ]
  },
  {
   "cell_type": "markdown",
   "id": "64905e29",
   "metadata": {},
   "source": [
    "### Runtime for map"
   ]
  },
  {
   "cell_type": "code",
   "execution_count": 80,
   "id": "7340750e",
   "metadata": {},
   "outputs": [
    {
     "name": "stdout",
     "output_type": "stream",
     "text": [
      "GA values Crossover rate: 0.95 Generations: 300 Population Size: 100 \n",
      "\n",
      "The best fitness, 0.00567013106454527, was found in generation 268\n",
      "\n",
      "FINAL RESULT: Individual:\n",
      "- Vehicle 1: 0 -> 15 -> 17 -> 9 -> 1 -> 16 -> 0\n",
      "- Vehicle 2: 0 -> 13 -> 8 -> 12 -> 2 -> 10 -> 6 -> 7 -> 0\n",
      "- Vehicle 3: 0 -> 0\n",
      "- Vehicle 4: 0 -> 5 -> 11 -> 14 -> 4 -> 3 -> 0\n",
      "- Vehicle 5: 0 -> 0\n",
      "Vehicles used: 3/5\n",
      "Fitness score: 0.00567013106454527\n",
      "\n",
      "Function took 2.181 seconds\n"
     ]
    },
    {
     "data": {
      "image/png": "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",
      "text/plain": [
       "<Figure size 1000x1000 with 1 Axes>"
      ]
     },
     "metadata": {},
     "output_type": "display_data"
    }
   ],
   "source": [
    "# GA parameter sets to choose from\n",
    "GA_values = [(0.9,10,50),(0.8,100,20),(0.95,300,100)]\n",
    "\n",
    "x,y,z = GA_values[2]\n",
    "\n",
    "# Running the genetic algorithm with chosen parameters and loaded map\n",
    "print(f\"GA values Crossover rate:\",x,\"Generations:\",y,\"Population Size:\",z, \"\\n\")\n",
    "result, total_time = genetic_algorithm(CROSSOVER_RATE=x,GENERATIONS=y,POPULATION_SIZE=z)\n",
    "\n",
    "# Visualizing the result\n",
    "print(f\"FINAL RESULT: {visualize_individual(result, fitness(result))}\")\n",
    "print(\"Function took \" + str(round(total_time, 3)) + \" seconds\")\n",
    "\n",
    "graph_map(result)"
   ]
  }
 ],
 "metadata": {
  "kernelspec": {
   "display_name": "Python 3",
   "language": "python",
   "name": "python3"
  },
  "language_info": {
   "codemirror_mode": {
    "name": "ipython",
    "version": 3
   },
   "file_extension": ".py",
   "mimetype": "text/x-python",
   "name": "python",
   "nbconvert_exporter": "python",
   "pygments_lexer": "ipython3",
   "version": "3.10.4"
  }
 },
 "nbformat": 4,
 "nbformat_minor": 5
}
