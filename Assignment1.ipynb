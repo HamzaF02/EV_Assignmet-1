{
 "cells": [
  {
   "cell_type": "code",
   "execution_count": 1,
   "id": "525da2c4",
   "metadata": {},
   "outputs": [],
   "source": [
    "import random\n",
    "\n",
    "# Problem: Traveling Salesman Problem\n",
    "CUSTOMERS = [(0, 0), (1, 5), (2, 2), (3, 8), (5, 5), (6, 1), (8, 3)]\n",
    "\n",
    "POPULATION_SIZE = 4  # Smaller population for demonstration\n",
    "GENERATIONS = 2\n",
    "VEHICLES = 3\n",
    "\n",
    "def create_individual():\n",
    "    \"\"\"\n",
    "    Creates a random individual for a multi-vehicle TSP/VRP.\n",
    "    Representation: List of lists, one list per vehicle containing assigned customers.\n",
    "    Allows uneven distribution of customers.\n",
    "    \"\"\"\n",
    "    customers = list(range(1, len(CUSTOMERS)))  # exclude depot (index 0)\n",
    "    random.shuffle(customers)\n",
    "\n",
    "    individual = [[] for _ in range(VEHICLES)]\n",
    "\n",
    "    for cust in customers:\n",
    "        chosen_vehicle = random.randint(0, VEHICLES - 1)  # assign randomly\n",
    "        individual[chosen_vehicle].append(cust)\n",
    "\n",
    "    return individual"
   ]
  },
  {
   "cell_type": "code",
   "execution_count": null,
   "id": "b8a2a1dd",
   "metadata": {},
   "outputs": [
    {
     "data": {
      "text/plain": [
       "[[[3, 2], [1, 6], [4, 5]],\n",
       " [[4], [3, 1], [2, 5, 6]],\n",
       " [[3, 5, 4], [6, 1], [2]],\n",
       " [[4], [6, 5], [2, 1, 3]]]"
      ]
     },
     "execution_count": 2,
     "metadata": {},
     "output_type": "execute_result"
    }
   ],
   "source": [
    "# Testing creation of individuals\n",
    "INDIVIDUALS = []\n",
    "for i in range(POPULATION_SIZE):\n",
    "  INDIVIDUALS.append(create_individual())\n",
    "\n",
    "INDIVIDUALS"
   ]
  }
 ],
 "metadata": {
  "kernelspec": {
   "display_name": "Python 3",
   "language": "python",
   "name": "python3"
  },
  "language_info": {
   "codemirror_mode": {
    "name": "ipython",
    "version": 3
   },
   "file_extension": ".py",
   "mimetype": "text/x-python",
   "name": "python",
   "nbconvert_exporter": "python",
   "pygments_lexer": "ipython3",
   "version": "3.13.7"
  }
 },
 "nbformat": 4,
 "nbformat_minor": 5
}
